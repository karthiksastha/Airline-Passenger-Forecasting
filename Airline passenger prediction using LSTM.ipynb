{
 "cells": [
  {
   "cell_type": "code",
   "execution_count": 41,
   "metadata": {},
   "outputs": [],
   "source": [
    "#Loading necessary libraries\n",
    "import numpy as np\n",
    "import matplotlib.pyplot as plt\n",
    "import pandas as pd\n",
    "from tensorflow.keras.models import Sequential\n",
    "from tensorflow.keras.layers import Dense, LSTM\n",
    "from sklearn.preprocessing import MinMaxScaler"
   ]
  },
  {
   "cell_type": "code",
   "execution_count": 42,
   "metadata": {},
   "outputs": [],
   "source": [
    "#Loading the data\n",
    "dataset = pd.read_csv('AirPassengers.csv')"
   ]
  },
  {
   "cell_type": "code",
   "execution_count": 43,
   "metadata": {},
   "outputs": [
    {
     "data": {
      "text/html": [
       "<div>\n",
       "<style scoped>\n",
       "    .dataframe tbody tr th:only-of-type {\n",
       "        vertical-align: middle;\n",
       "    }\n",
       "\n",
       "    .dataframe tbody tr th {\n",
       "        vertical-align: top;\n",
       "    }\n",
       "\n",
       "    .dataframe thead th {\n",
       "        text-align: right;\n",
       "    }\n",
       "</style>\n",
       "<table border=\"1\" class=\"dataframe\">\n",
       "  <thead>\n",
       "    <tr style=\"text-align: right;\">\n",
       "      <th></th>\n",
       "      <th>Month</th>\n",
       "      <th>#Passengers</th>\n",
       "    </tr>\n",
       "  </thead>\n",
       "  <tbody>\n",
       "    <tr>\n",
       "      <th>0</th>\n",
       "      <td>1949-01</td>\n",
       "      <td>112</td>\n",
       "    </tr>\n",
       "    <tr>\n",
       "      <th>1</th>\n",
       "      <td>1949-02</td>\n",
       "      <td>118</td>\n",
       "    </tr>\n",
       "    <tr>\n",
       "      <th>2</th>\n",
       "      <td>1949-03</td>\n",
       "      <td>132</td>\n",
       "    </tr>\n",
       "    <tr>\n",
       "      <th>3</th>\n",
       "      <td>1949-04</td>\n",
       "      <td>129</td>\n",
       "    </tr>\n",
       "    <tr>\n",
       "      <th>4</th>\n",
       "      <td>1949-05</td>\n",
       "      <td>121</td>\n",
       "    </tr>\n",
       "  </tbody>\n",
       "</table>\n",
       "</div>"
      ],
      "text/plain": [
       "     Month  #Passengers\n",
       "0  1949-01          112\n",
       "1  1949-02          118\n",
       "2  1949-03          132\n",
       "3  1949-04          129\n",
       "4  1949-05          121"
      ]
     },
     "execution_count": 43,
     "metadata": {},
     "output_type": "execute_result"
    }
   ],
   "source": [
    "#Firt 5 values of data\n",
    "dataset.head()"
   ]
  },
  {
   "cell_type": "code",
   "execution_count": 44,
   "metadata": {},
   "outputs": [
    {
     "data": {
      "text/plain": [
       "array([[112],\n",
       "       [118],\n",
       "       [132],\n",
       "       [129],\n",
       "       [121],\n",
       "       [135],\n",
       "       [148],\n",
       "       [148],\n",
       "       [136],\n",
       "       [119]], dtype=int64)"
      ]
     },
     "execution_count": 44,
     "metadata": {},
     "output_type": "execute_result"
    }
   ],
   "source": [
    "#Reshaping the column into a numpy array format\n",
    "dataset = dataset['#Passengers']\n",
    "dataset = np.array(dataset).reshape(-1,1)\n",
    "dataset[:10]"
   ]
  },
  {
   "cell_type": "code",
   "execution_count": 45,
   "metadata": {},
   "outputs": [
    {
     "data": {
      "text/plain": [
       "[<matplotlib.lines.Line2D at 0x1a25ccd7e88>]"
      ]
     },
     "execution_count": 45,
     "metadata": {},
     "output_type": "execute_result"
    },
    {
     "data": {
      "image/png": "[encoded data removed]",
      "text/plain": [
       "<Figure size 432x288 with 1 Axes>"
      ]
     },
     "metadata": {
      "needs_background": "light"
     },
     "output_type": "display_data"
    }
   ],
   "source": [
    "#Time series plot\n",
    "plt.plot(dataset)"
   ]
  },
  {
   "cell_type": "markdown",
   "metadata": {},
   "source": [
    "We can observe that the number of passengers has increased linearly over time"
   ]
  },
  {
   "cell_type": "code",
   "execution_count": 46,
   "metadata": {},
   "outputs": [
    {
     "data": {
      "text/plain": [
       "(0.0, 1.0)"
      ]
     },
     "execution_count": 46,
     "metadata": {},
     "output_type": "execute_result"
    }
   ],
   "source": [
    "#Neural networks work better if inputs are between 0 and 1. \n",
    "#So we are going to scale down the inputs using MinMaxScaler()\n",
    "scaler = MinMaxScaler()\n",
    "dataset = scaler.fit_transform(dataset)\n",
    "dataset.min(),dataset.max()"
   ]
  },
  {
   "cell_type": "markdown",
   "metadata": {},
   "source": [
    "We can see that after scaling the minimum value is 0 and maximum value is 1."
   ]
  },
  {
   "cell_type": "code",
   "execution_count": 47,
   "metadata": {},
   "outputs": [
    {
     "data": {
      "text/plain": [
       "(100, 1)"
      ]
     },
     "execution_count": 47,
     "metadata": {},
     "output_type": "execute_result"
    }
   ],
   "source": [
    "#We are going to use the data of first 100 months as training data \n",
    "#and the last 44 months as testing data\n",
    "train_size = 100\n",
    "test_size = 44\n",
    "train = dataset[0:train_size, :]\n",
    "train.shape"
   ]
  },
  {
   "cell_type": "code",
   "execution_count": 48,
   "metadata": {},
   "outputs": [
    {
     "data": {
      "text/plain": [
       "(44, 1)"
      ]
     },
     "execution_count": 48,
     "metadata": {},
     "output_type": "execute_result"
    }
   ],
   "source": [
    "test = dataset[train_size:144, :]\n",
    "test.shape"
   ]
  },
  {
   "cell_type": "markdown",
   "metadata": {},
   "source": [
    "Create training and testing dataset\n",
    "We are going to predict the (i)th value in the dataset on the basis of (i-1)th value. That means we are going to look back by 1 to predict the next value. Hence we are creating a function get_data() to create dataX and dataY for the training as well as the testing data."
   ]
  },
  {
   "cell_type": "code",
   "execution_count": 49,
   "metadata": {},
   "outputs": [
    {
     "data": {
      "text/plain": [
       "array([[0.01544402],\n",
       "       [0.02702703],\n",
       "       [0.05405405],\n",
       "       [0.04826255],\n",
       "       [0.03281853],\n",
       "       [0.05984556],\n",
       "       [0.08494208],\n",
       "       [0.08494208],\n",
       "       [0.06177606],\n",
       "       [0.02895753]])"
      ]
     },
     "execution_count": 49,
     "metadata": {},
     "output_type": "execute_result"
    }
   ],
   "source": [
    "def get_data(dataset, look_back):\n",
    "    dataX, dataY = [], []\n",
    "    for i in range(len(dataset)-look_back-1):\n",
    "        a = dataset[i:(i+look_back), 0]\n",
    "        dataX.append(a)\n",
    "        dataY.append(dataset[i+look_back, 0])\n",
    "    return np.array(dataX), np.array(dataY)\n",
    "\n",
    "look_back = 1\n",
    "X_train, y_train = get_data(train, look_back)\n",
    "X_train[:10]"
   ]
  },
  {
   "cell_type": "code",
   "execution_count": 50,
   "metadata": {},
   "outputs": [
    {
     "data": {
      "text/plain": [
       "array([0.02702703, 0.05405405, 0.04826255, 0.03281853, 0.05984556,\n",
       "       0.08494208, 0.08494208, 0.06177606, 0.02895753, 0.        ])"
      ]
     },
     "execution_count": 50,
     "metadata": {},
     "output_type": "execute_result"
    }
   ],
   "source": [
    "y_train[:10]"
   ]
  },
  {
   "cell_type": "markdown",
   "metadata": {},
   "source": [
    "Now we have called get_data() to create the testing data"
   ]
  },
  {
   "cell_type": "code",
   "execution_count": 51,
   "metadata": {},
   "outputs": [],
   "source": [
    "X_test, y_test = get_data(test, look_back)"
   ]
  },
  {
   "cell_type": "markdown",
   "metadata": {},
   "source": [
    "Now we are going to reshape our data and make it 2 dimensional using reshape()"
   ]
  },
  {
   "cell_type": "code",
   "execution_count": 52,
   "metadata": {},
   "outputs": [],
   "source": [
    "X_train = X_train.reshape(X_train.shape[0], X_train.shape[1], 1)\n",
    "X_test = X_test.reshape(X_test.shape[0], X_test.shape[1], 1)"
   ]
  },
  {
   "cell_type": "code",
   "execution_count": 53,
   "metadata": {},
   "outputs": [
    {
     "data": {
      "text/plain": [
       "(98, 1, 1)"
      ]
     },
     "execution_count": 53,
     "metadata": {},
     "output_type": "execute_result"
    }
   ],
   "source": [
    "X_train.shape"
   ]
  },
  {
   "cell_type": "markdown",
   "metadata": {},
   "source": [
    "Build the model\n",
    "Our sequential model has 2 layers\n",
    "\n",
    "LSTM layer:\n",
    "This is the main layer of the model and has 5 units. It learns long-term dependencies between time steps in time series and sequence data. input_shape contains the shape of input which we have to pass as a parameter to the first layer of our neural network.\n",
    "\n",
    "Dense layer:\n",
    "Dense layer is the regular deeply connected neural network layer. It is most common and frequently used layer. We have number of units as 1 because we are going to get a single value as the output."
   ]
  },
  {
   "cell_type": "code",
   "execution_count": 54,
   "metadata": {},
   "outputs": [],
   "source": [
    "model = Sequential()\n",
    "model.add(LSTM(5, input_shape = (1, look_back)))\n",
    "model.add(Dense(1))\n",
    "model.compile(loss = 'mean_squared_error', optimizer = 'adam')"
   ]
  },
  {
   "cell_type": "markdown",
   "metadata": {},
   "source": [
    "We have compliled the model. We can see the summary using model.summary()."
   ]
  },
  {
   "cell_type": "code",
   "execution_count": 55,
   "metadata": {},
   "outputs": [
    {
     "name": "stdout",
     "output_type": "stream",
     "text": [
      "Model: \"sequential_3\"\n",
      "_________________________________________________________________\n",
      "Layer (type)                 Output Shape              Param #   \n",
      "=================================================================\n",
      "lstm_3 (LSTM)                (None, 5)                 140       \n",
      "_________________________________________________________________\n",
      "dense_3 (Dense)              (None, 1)                 6         \n",
      "=================================================================\n",
      "Total params: 146\n",
      "Trainable params: 146\n",
      "Non-trainable params: 0\n",
      "_________________________________________________________________\n"
     ]
    }
   ],
   "source": [
    "model.summary()"
   ]
  },
  {
   "cell_type": "markdown",
   "metadata": {},
   "source": [
    "After compiling the model we will now train the model using model.fit() on the training dataset. We will use 50 epochs to train the model. An epoch is an iteration over the entire x and y data provided. batch_size is the number of samples per gradient update i.e. the weights will be updates after every training example."
   ]
  },
  {
   "cell_type": "code",
   "execution_count": 56,
   "metadata": {},
   "outputs": [
    {
     "name": "stdout",
     "output_type": "stream",
     "text": [
      "Epoch 1/50\n",
      "98/98 [==============================] - 0s 921us/step - loss: 0.0594\n",
      "Epoch 2/50\n",
      "98/98 [==============================] - 0s 933us/step - loss: 0.0292\n",
      "Epoch 3/50\n",
      "98/98 [==============================] - 0s 892us/step - loss: 0.0215\n",
      "Epoch 4/50\n",
      "98/98 [==============================] - 0s 937us/step - loss: 0.0193\n",
      "Epoch 5/50\n",
      "98/98 [==============================] - 0s 875us/step - loss: 0.0180\n",
      "Epoch 6/50\n",
      "98/98 [==============================] - 0s 916us/step - loss: 0.0169\n",
      "Epoch 7/50\n",
      "98/98 [==============================] - 0s 882us/step - loss: 0.0159\n",
      "Epoch 8/50\n",
      "98/98 [==============================] - 0s 926us/step - loss: 0.0147\n",
      "Epoch 9/50\n",
      "98/98 [==============================] - 0s 889us/step - loss: 0.0136\n",
      "Epoch 10/50\n",
      "98/98 [==============================] - 0s 869us/step - loss: 0.0125\n",
      "Epoch 11/50\n",
      "98/98 [==============================] - 0s 948us/step - loss: 0.0113\n",
      "Epoch 12/50\n",
      "98/98 [==============================] - 0s 846us/step - loss: 0.0103\n",
      "Epoch 13/50\n",
      "98/98 [==============================] - 0s 935us/step - loss: 0.0092\n",
      "Epoch 14/50\n",
      "98/98 [==============================] - 0s 901us/step - loss: 0.0081\n",
      "Epoch 15/50\n",
      "98/98 [==============================] - 0s 855us/step - loss: 0.0071\n",
      "Epoch 16/50\n",
      "98/98 [==============================] - 0s 878us/step - loss: 0.0062\n",
      "Epoch 17/50\n",
      "98/98 [==============================] - 0s 806us/step - loss: 0.0053\n",
      "Epoch 18/50\n",
      "98/98 [==============================] - 0s 835us/step - loss: 0.0046\n",
      "Epoch 19/50\n",
      "98/98 [==============================] - 0s 866us/step - loss: 0.0039\n",
      "Epoch 20/50\n",
      "98/98 [==============================] - 0s 858us/step - loss: 0.0035\n",
      "Epoch 21/50\n",
      "98/98 [==============================] - ETA: 0s - loss: 0.002 - 0s 895us/step - loss: 0.0031\n",
      "Epoch 22/50\n",
      "98/98 [==============================] - 0s 824us/step - loss: 0.0027\n",
      "Epoch 23/50\n",
      "98/98 [==============================] - 0s 855us/step - loss: 0.0026\n",
      "Epoch 24/50\n",
      "98/98 [==============================] - 0s 840us/step - loss: 0.0024\n",
      "Epoch 25/50\n",
      "98/98 [==============================] - 0s 1ms/step - loss: 0.0023\n",
      "Epoch 26/50\n",
      "98/98 [==============================] - 0s 855us/step - loss: 0.0022\n",
      "Epoch 27/50\n",
      "98/98 [==============================] - 0s 920us/step - loss: 0.0022\n",
      "Epoch 28/50\n",
      "98/98 [==============================] - 0s 855us/step - loss: 0.0021\n",
      "Epoch 29/50\n",
      "98/98 [==============================] - 0s 1ms/step - loss: 0.0022\n",
      "Epoch 30/50\n",
      "98/98 [==============================] - 0s 1ms/step - loss: 0.0021\n",
      "Epoch 31/50\n",
      "98/98 [==============================] - 0s 1ms/step - loss: 0.0021\n",
      "Epoch 32/50\n",
      "98/98 [==============================] - 0s 967us/step - loss: 0.0021\n",
      "Epoch 33/50\n",
      "98/98 [==============================] - 0s 946us/step - loss: 0.0021\n",
      "Epoch 34/50\n",
      "98/98 [==============================] - 0s 899us/step - loss: 0.0021\n",
      "Epoch 35/50\n",
      "98/98 [==============================] - 0s 1ms/step - loss: 0.0021\n",
      "Epoch 36/50\n",
      "98/98 [==============================] - 0s 1ms/step - loss: 0.0021\n",
      "Epoch 37/50\n",
      "98/98 [==============================] - 0s 864us/step - loss: 0.0021\n",
      "Epoch 38/50\n",
      "98/98 [==============================] - 0s 995us/step - loss: 0.0021\n",
      "Epoch 39/50\n",
      "98/98 [==============================] - 0s 997us/step - loss: 0.0021\n",
      "Epoch 40/50\n",
      "98/98 [==============================] - 0s 2ms/step - loss: 0.0021\n",
      "Epoch 41/50\n",
      "98/98 [==============================] - 0s 1ms/step - loss: 0.0022\n",
      "Epoch 42/50\n",
      "98/98 [==============================] - 0s 1ms/step - loss: 0.0021\n",
      "Epoch 43/50\n",
      "98/98 [==============================] - 0s 904us/step - loss: 0.0021\n",
      "Epoch 44/50\n",
      "98/98 [==============================] - 0s 891us/step - loss: 0.0022\n",
      "Epoch 45/50\n",
      "98/98 [==============================] - 0s 820us/step - loss: 0.0021\n",
      "Epoch 46/50\n",
      "98/98 [==============================] - 0s 828us/step - loss: 0.0021\n",
      "Epoch 47/50\n",
      "98/98 [==============================] - 0s 926us/step - loss: 0.0021\n",
      "Epoch 48/50\n",
      "98/98 [==============================] - 0s 957us/step - loss: 0.0022\n",
      "Epoch 49/50\n",
      "98/98 [==============================] - 0s 1ms/step - loss: 0.0021\n",
      "Epoch 50/50\n",
      "98/98 [==============================] - 0s 1ms/step - loss: 0.0021\n"
     ]
    },
    {
     "data": {
      "text/plain": [
       "<tensorflow.python.keras.callbacks.History at 0x1a25cc59188>"
      ]
     },
     "execution_count": 56,
     "metadata": {},
     "output_type": "execute_result"
    }
   ],
   "source": [
    "model.fit(X_train, y_train, epochs=50, batch_size=1)"
   ]
  },
  {
   "cell_type": "markdown",
   "metadata": {},
   "source": [
    "Now we will test our model using X_test"
   ]
  },
  {
   "cell_type": "markdown",
   "metadata": {},
   "source": [
    "This is the scaler value which we had used earlier"
   ]
  },
  {
   "cell_type": "code",
   "execution_count": 57,
   "metadata": {},
   "outputs": [],
   "source": [
    "y_pred = model.predict(X_test)"
   ]
  },
  {
   "cell_type": "code",
   "execution_count": 58,
   "metadata": {},
   "outputs": [
    {
     "data": {
      "text/plain": [
       "array([0.0019305])"
      ]
     },
     "execution_count": 58,
     "metadata": {},
     "output_type": "execute_result"
    }
   ],
   "source": [
    "scaler.scale_"
   ]
  },
  {
   "cell_type": "markdown",
   "metadata": {},
   "source": [
    "We had scaled down the values in our dataset before passing it to the neural network. Now we will have to get the original values back. For this we will use scaler.inverse_transform()."
   ]
  },
  {
   "cell_type": "code",
   "execution_count": 59,
   "metadata": {},
   "outputs": [],
   "source": [
    "y_pred = scaler.inverse_transform(y_pred)\n",
    "y_test = np.array(y_test)\n",
    "y_test = y_test.reshape(-1, 1)\n",
    "y_test = scaler.inverse_transform(y_test)"
   ]
  },
  {
   "cell_type": "markdown",
   "metadata": {},
   "source": [
    "#Now we will visualize the result by plotting the real values and the predicted values."
   ]
  },
  {
   "cell_type": "code",
   "execution_count": 60,
   "metadata": {},
   "outputs": [
    {
     "data": {
      "image/png": "[encoded data removed]",
      "text/plain": [
       "<Figure size 1008x360 with 1 Axes>"
      ]
     },
     "metadata": {
      "needs_background": "light"
     },
     "output_type": "display_data"
    }
   ],
   "source": [
    "# plot baseline and predictions\n",
    "plt.figure(figsize=(14,5))\n",
    "plt.plot(y_test, label = 'Real number of passengers')\n",
    "plt.plot(y_pred, label = 'Predicted number of passengers')\n",
    "plt.ylabel('# passengers')\n",
    "plt.legend()\n",
    "plt.show()"
   ]
  },
  {
   "cell_type": "markdown",
   "metadata": {},
   "source": [
    "As we can see that the actual results and the predicted results are following the same trend. Our model is predicting the number of passengers with a good accuracy."
   ]
  }
 ],
 "metadata": {
  "kernelspec": {
   "display_name": "Python 3",
   "language": "python",
   "name": "python3"
  },
  "language_info": {
   "codemirror_mode": {
    "name": "ipython",
    "version": 3
   },
   "file_extension": ".py",
   "mimetype": "text/x-python",
   "name": "python",
   "nbconvert_exporter": "python",
   "pygments_lexer": "ipython3",
   "version": "3.7.6"
  }
 },
 "nbformat": 4,
 "nbformat_minor": 4
}
